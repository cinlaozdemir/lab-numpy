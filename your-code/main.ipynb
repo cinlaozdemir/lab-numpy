{
 "cells": [
  {
   "cell_type": "markdown",
   "metadata": {},
   "source": [
    "# Intrduction to NumPy\n",
    "\n",
    "\n",
    "#### 1. Import NumPy under the name np."
   ]
  },
  {
   "cell_type": "code",
   "execution_count": 1,
   "metadata": {},
   "outputs": [],
   "source": [
    "import numpy as np"
   ]
  },
  {
   "cell_type": "markdown",
   "metadata": {},
   "source": [
    "#### 2. Print your NumPy version."
   ]
  },
  {
   "cell_type": "code",
   "execution_count": 2,
   "metadata": {},
   "outputs": [
    {
     "name": "stdout",
     "output_type": "stream",
     "text": [
      "1.16.5\n"
     ]
    }
   ],
   "source": [
    "print(np.__version__)"
   ]
  },
  {
   "cell_type": "markdown",
   "metadata": {},
   "source": [
    "#### 3. Generate a 2x3x5 3-dimensional array with random values. Assign the array to variable *a*.\n",
    "**Challenge**: there are at least three easy ways that use numpy to generate random arrays. How many ways can you find?"
   ]
  },
  {
   "cell_type": "code",
   "execution_count": 25,
   "metadata": {},
   "outputs": [],
   "source": [
    "a=np.random.rand(2,3,5)"
   ]
  },
  {
   "cell_type": "code",
   "execution_count": 81,
   "metadata": {},
   "outputs": [],
   "source": [
    "a=np.random.normal((2,3,5))"
   ]
  },
  {
   "cell_type": "code",
   "execution_count": 82,
   "metadata": {},
   "outputs": [],
   "source": [
    "a=np.random.uniform((2,3,5))"
   ]
  },
  {
   "cell_type": "markdown",
   "metadata": {},
   "source": [
    "#### 4. Print *a*.\n"
   ]
  },
  {
   "cell_type": "code",
   "execution_count": 24,
   "metadata": {},
   "outputs": [
    {
     "data": {
      "text/plain": [
       "array([[[0.07985753, 0.92340008, 0.72647163, 0.88552994, 0.41390645],\n",
       "        [0.86975834, 0.32593395, 0.52520721, 0.37836572, 0.41668116],\n",
       "        [0.91518435, 0.70940952, 0.68158045, 0.45571294, 0.23063032]],\n",
       "\n",
       "       [[0.24960384, 0.79784712, 0.30254701, 0.01159307, 0.01850846],\n",
       "        [0.5524033 , 0.18120155, 0.70295731, 0.72652977, 0.80978197],\n",
       "        [0.60025492, 0.97146376, 0.38585359, 0.90390308, 0.98307023]]])"
      ]
     },
     "execution_count": 24,
     "metadata": {},
     "output_type": "execute_result"
    }
   ],
   "source": [
    "a"
   ]
  },
  {
   "cell_type": "markdown",
   "metadata": {},
   "source": [
    "#### 5. Create a 5x2x3 3-dimensional array with all values equaling 1. Assign the array to variable *b*."
   ]
  },
  {
   "cell_type": "code",
   "execution_count": 28,
   "metadata": {},
   "outputs": [],
   "source": [
    "b=np.ones((5,2,3))"
   ]
  },
  {
   "cell_type": "markdown",
   "metadata": {},
   "source": [
    "#### 6. Print *b*.\n"
   ]
  },
  {
   "cell_type": "code",
   "execution_count": 30,
   "metadata": {},
   "outputs": [
    {
     "data": {
      "text/plain": [
       "array([[[1., 1., 1.],\n",
       "        [1., 1., 1.]],\n",
       "\n",
       "       [[1., 1., 1.],\n",
       "        [1., 1., 1.]],\n",
       "\n",
       "       [[1., 1., 1.],\n",
       "        [1., 1., 1.]],\n",
       "\n",
       "       [[1., 1., 1.],\n",
       "        [1., 1., 1.]],\n",
       "\n",
       "       [[1., 1., 1.],\n",
       "        [1., 1., 1.]]])"
      ]
     },
     "execution_count": 30,
     "metadata": {},
     "output_type": "execute_result"
    }
   ],
   "source": [
    "b"
   ]
  },
  {
   "cell_type": "markdown",
   "metadata": {},
   "source": [
    "#### 7. Do *a* and *b* have the same size? How do you prove that in Python code?"
   ]
  },
  {
   "cell_type": "code",
   "execution_count": 32,
   "metadata": {},
   "outputs": [
    {
     "data": {
      "text/plain": [
       "True"
      ]
     },
     "execution_count": 32,
     "metadata": {},
     "output_type": "execute_result"
    }
   ],
   "source": [
    "np.array(a).size==np.array(b).size"
   ]
  },
  {
   "cell_type": "markdown",
   "metadata": {},
   "source": [
    "#### 8. Are you able to add *a* and *b*? Why or why not?\n"
   ]
  },
  {
   "cell_type": "code",
   "execution_count": 34,
   "metadata": {},
   "outputs": [],
   "source": [
    "#It doesn't work because the shapes are different so it gives the error \"operands could not be broadcast together with \n",
    "#shapes (2,3,5) (5,2,3)\""
   ]
  },
  {
   "cell_type": "markdown",
   "metadata": {},
   "source": [
    "#### 9. Transpose *b* so that it has the same structure of *a* (i.e. become a 2x3x5 array). Assign the transposed array to variable *c*."
   ]
  },
  {
   "cell_type": "code",
   "execution_count": 68,
   "metadata": {},
   "outputs": [
    {
     "data": {
      "text/plain": [
       "(2, 3, 5)"
      ]
     },
     "execution_count": 68,
     "metadata": {},
     "output_type": "execute_result"
    }
   ],
   "source": [
    "c=np.transpose(b, (1,2,0))\n",
    "np.shape(c)"
   ]
  },
  {
   "cell_type": "markdown",
   "metadata": {},
   "source": [
    "#### 10. Try to add *a* and *c*. Now it should work. Assign the sum to variable *d*. But why does it work now?"
   ]
  },
  {
   "cell_type": "code",
   "execution_count": 54,
   "metadata": {},
   "outputs": [
    {
     "data": {
      "text/plain": [
       "array([[[1.07985753, 1.92340008, 1.72647163, 1.88552994, 1.41390645],\n",
       "        [1.86975834, 1.32593395, 1.52520721, 1.37836572, 1.41668116],\n",
       "        [1.91518435, 1.70940952, 1.68158045, 1.45571294, 1.23063032]],\n",
       "\n",
       "       [[1.24960384, 1.79784712, 1.30254701, 1.01159307, 1.01850846],\n",
       "        [1.5524033 , 1.18120155, 1.70295731, 1.72652977, 1.80978197],\n",
       "        [1.60025492, 1.97146376, 1.38585359, 1.90390308, 1.98307023]]])"
      ]
     },
     "execution_count": 54,
     "metadata": {},
     "output_type": "execute_result"
    }
   ],
   "source": [
    "d=a+c\n",
    "d\n",
    "#it works because now the shapes of the two arrays are the same."
   ]
  },
  {
   "cell_type": "markdown",
   "metadata": {},
   "source": [
    "#### 11. Print *a* and *d*. Notice the difference and relation of the two array in terms of the values? Explain."
   ]
  },
  {
   "cell_type": "code",
   "execution_count": 63,
   "metadata": {},
   "outputs": [
    {
     "name": "stdout",
     "output_type": "stream",
     "text": [
      "[[[0.07985753 0.92340008 0.72647163 0.88552994 0.41390645]\n",
      "  [0.86975834 0.32593395 0.52520721 0.37836572 0.41668116]\n",
      "  [0.91518435 0.70940952 0.68158045 0.45571294 0.23063032]]\n",
      "\n",
      " [[0.24960384 0.79784712 0.30254701 0.01159307 0.01850846]\n",
      "  [0.5524033  0.18120155 0.70295731 0.72652977 0.80978197]\n",
      "  [0.60025492 0.97146376 0.38585359 0.90390308 0.98307023]]]\n",
      "[[[1.07985753 1.92340008 1.72647163 1.88552994 1.41390645]\n",
      "  [1.86975834 1.32593395 1.52520721 1.37836572 1.41668116]\n",
      "  [1.91518435 1.70940952 1.68158045 1.45571294 1.23063032]]\n",
      "\n",
      " [[1.24960384 1.79784712 1.30254701 1.01159307 1.01850846]\n",
      "  [1.5524033  1.18120155 1.70295731 1.72652977 1.80978197]\n",
      "  [1.60025492 1.97146376 1.38585359 1.90390308 1.98307023]]]\n"
     ]
    }
   ],
   "source": [
    "print(a)\n",
    "print(d)\n",
    "#d has the values of a with just 1 added."
   ]
  },
  {
   "cell_type": "markdown",
   "metadata": {},
   "source": [
    "#### 12. Multiply *a* and *c*. Assign the result to *e*."
   ]
  },
  {
   "cell_type": "code",
   "execution_count": 65,
   "metadata": {},
   "outputs": [
    {
     "data": {
      "text/plain": [
       "array([[[0.07985753, 0.92340008, 0.72647163, 0.88552994, 0.41390645],\n",
       "        [0.86975834, 0.32593395, 0.52520721, 0.37836572, 0.41668116],\n",
       "        [0.91518435, 0.70940952, 0.68158045, 0.45571294, 0.23063032]],\n",
       "\n",
       "       [[0.24960384, 0.79784712, 0.30254701, 0.01159307, 0.01850846],\n",
       "        [0.5524033 , 0.18120155, 0.70295731, 0.72652977, 0.80978197],\n",
       "        [0.60025492, 0.97146376, 0.38585359, 0.90390308, 0.98307023]]])"
      ]
     },
     "execution_count": 65,
     "metadata": {},
     "output_type": "execute_result"
    }
   ],
   "source": [
    "e=a*c\n",
    "e"
   ]
  },
  {
   "cell_type": "markdown",
   "metadata": {},
   "source": [
    "#### 13. Does *e* equal to *a*? Why or why not?\n"
   ]
  },
  {
   "cell_type": "code",
   "execution_count": 66,
   "metadata": {},
   "outputs": [
    {
     "data": {
      "text/plain": [
       "array([[[ True,  True,  True,  True,  True],\n",
       "        [ True,  True,  True,  True,  True],\n",
       "        [ True,  True,  True,  True,  True]],\n",
       "\n",
       "       [[ True,  True,  True,  True,  True],\n",
       "        [ True,  True,  True,  True,  True],\n",
       "        [ True,  True,  True,  True,  True]]])"
      ]
     },
     "execution_count": 66,
     "metadata": {},
     "output_type": "execute_result"
    }
   ],
   "source": [
    "e==a\n",
    "#They equal because e is just the multiplied by 1 version of a."
   ]
  },
  {
   "cell_type": "markdown",
   "metadata": {},
   "source": [
    "#### 14. Identify the max, min, and mean values in *d*. Assign those values to variables *d_max*, *d_min* and *d_mean*."
   ]
  },
  {
   "cell_type": "code",
   "execution_count": 71,
   "metadata": {},
   "outputs": [
    {
     "data": {
      "text/plain": [
       "1.9830702310189232"
      ]
     },
     "execution_count": 71,
     "metadata": {},
     "output_type": "execute_result"
    }
   ],
   "source": [
    "np.amax(d)"
   ]
  },
  {
   "cell_type": "markdown",
   "metadata": {},
   "source": [
    "#### 15. Now we want to label the values in *d*. First create an empty array *f* with the same shape (i.e. 2x3x5) as *d* using `np.empty`.\n"
   ]
  },
  {
   "cell_type": "code",
   "execution_count": 77,
   "metadata": {},
   "outputs": [],
   "source": [
    "f=np.empty((2,3,5))"
   ]
  },
  {
   "cell_type": "markdown",
   "metadata": {},
   "source": [
    "#### 16. Populate the values in *f*. \n",
    "\n",
    "For each value in *d*, if it's larger than *d_min* but smaller than *d_mean*, assign 25 to the corresponding value in *f*. If a value in *d* is larger than *d_mean* but smaller than *d_max*, assign 75 to the corresponding value in *f*. If a value equals to *d_mean*, assign 50 to the corresponding value in *f*. Assign 0 to the corresponding value(s) in *f* for *d_min* in *d*. Assign 100 to the corresponding value(s) in *f* for *d_max* in *d*. In the end, f should have only the following values: 0, 25, 50, 75, and 100.\n",
    "\n",
    "**Note**: you don't have to use Numpy in this question."
   ]
  },
  {
   "cell_type": "code",
   "execution_count": 89,
   "metadata": {},
   "outputs": [
    {
     "ename": "ValueError",
     "evalue": "The truth value of an array with more than one element is ambiguous. Use a.any() or a.all()",
     "output_type": "error",
     "traceback": [
      "\u001b[1;31m---------------------------------------------------------------------------\u001b[0m",
      "\u001b[1;31mValueError\u001b[0m                                Traceback (most recent call last)",
      "\u001b[1;32m<ipython-input-89-de0d19bacfb2>\u001b[0m in \u001b[0;36m<module>\u001b[1;34m\u001b[0m\n\u001b[1;32m----> 1\u001b[1;33m \u001b[0mnp\u001b[0m\u001b[1;33m.\u001b[0m\u001b[0mplace\u001b[0m\u001b[1;33m(\u001b[0m\u001b[0mf\u001b[0m\u001b[1;33m,\u001b[0m \u001b[0md\u001b[0m\u001b[1;33m>\u001b[0m\u001b[0md_mean\u001b[0m \u001b[1;32mand\u001b[0m \u001b[0md_max\u001b[0m\u001b[1;33m>\u001b[0m\u001b[0md_max\u001b[0m\u001b[1;33m,\u001b[0m \u001b[1;36m75\u001b[0m\u001b[1;33m)\u001b[0m\u001b[1;33m\u001b[0m\u001b[1;33m\u001b[0m\u001b[0m\n\u001b[0m",
      "\u001b[1;31mValueError\u001b[0m: The truth value of an array with more than one element is ambiguous. Use a.any() or a.all()"
     ]
    }
   ],
   "source": [
    "np.place(f, d>d_mean and d_max>d_max, 75)"
   ]
  },
  {
   "cell_type": "code",
   "execution_count": 91,
   "metadata": {},
   "outputs": [
    {
     "name": "stdout",
     "output_type": "stream",
     "text": [
      "[[[1.07985753 1.92340008 1.72647163 1.88552994 1.41390645]\n",
      "  [1.86975834 1.32593395 1.52520721 1.37836572 1.41668116]\n",
      "  [1.91518435 1.70940952 1.68158045 1.45571294 1.23063032]]\n",
      "\n",
      " [[1.24960384 1.79784712 1.30254701 1.01159307 1.01850846]\n",
      "  [1.5524033  1.18120155 1.70295731 1.72652977 1.80978197]\n",
      "  [1.60025492 1.97146376 1.38585359 1.90390308 1.98307023]]]\n",
      "[[[ 25  75  75  75  25]\n",
      "  [ 75  25  25  25  25]\n",
      "  [ 75  75  75  25  25]]\n",
      "\n",
      " [[ 25  75  25   0  25]\n",
      "  [ 25  25  75  75  75]\n",
      "  [ 75  75  25  75 100]]]\n"
     ]
    }
   ],
   "source": [
    "d_mean=np.average(d)\n",
    "d_min=np.amin(d)\n",
    "d_max=np.amax(d)\n",
    "print(d)\n",
    "f_stg = []\n",
    "for element in d.flatten():\n",
    "       if element == d_min:\n",
    "           f_stg.append(0)\n",
    "       if element > d_min and element < d_mean:\n",
    "           f_stg.append(25)\n",
    "       if element == d_mean:\n",
    "           f_stg.append(50)\n",
    "       if element > d_mean and element < d_max:\n",
    "           f_stg.append(75)\n",
    "       if element == d_max:\n",
    "           f_stg.append(100)\n",
    "f = np.array(f_stg).reshape((2, 3, 5))\n",
    "print(f)"
   ]
  },
  {
   "cell_type": "markdown",
   "metadata": {},
   "source": [
    "#### 17. Print *d* and *f*. Do you have your expected *f*?\n",
    "For instance, if your *d* is:\n",
    "```python\n",
    "[[[1.85836099, 1.67064465, 1.62576044, 1.40243961, 1.88454931],\n",
    "[1.75354326, 1.69403643, 1.36729252, 1.61415071, 1.12104981],\n",
    "[1.72201435, 1.1862918 , 1.87078449, 1.7726778 , 1.88180042]],\n",
    "[[1.44747908, 1.31673383, 1.02000951, 1.52218947, 1.97066381],\n",
    "[1.79129243, 1.74983003, 1.96028037, 1.85166831, 1.65450881],\n",
    "[1.18068344, 1.9587381 , 1.00656599, 1.93402165, 1.73514584]]]\n",
    "```\n",
    "Your *f* should be:\n",
    "```python\n",
    "[[[ 75.,  75.,  75.,  25.,  75.],\n",
    "[ 75.,  75.,  25.,  25.,  25.],\n",
    "[ 75.,  25.,  75.,  75.,  75.]],\n",
    "[[ 25.,  25.,  25.,  25., 100.],\n",
    "[ 75.,  75.,  75.,  75.,  75.],\n",
    "[ 25.,  75.,   0.,  75.,  75.]]]\n",
    "```"
   ]
  },
  {
   "cell_type": "code",
   "execution_count": 96,
   "metadata": {},
   "outputs": [
    {
     "name": "stdout",
     "output_type": "stream",
     "text": [
      "[[[1.07985753 1.92340008 1.72647163 1.88552994 1.41390645]\n",
      "  [1.86975834 1.32593395 1.52520721 1.37836572 1.41668116]\n",
      "  [1.91518435 1.70940952 1.68158045 1.45571294 1.23063032]]\n",
      "\n",
      " [[1.24960384 1.79784712 1.30254701 1.01159307 1.01850846]\n",
      "  [1.5524033  1.18120155 1.70295731 1.72652977 1.80978197]\n",
      "  [1.60025492 1.97146376 1.38585359 1.90390308 1.98307023]]]\n",
      "[[[ 25  75  75  75  25]\n",
      "  [ 75  25  25  25  25]\n",
      "  [ 75  75  75  25  25]]\n",
      "\n",
      " [[ 25  75  25   0  25]\n",
      "  [ 25  25  75  75  75]\n",
      "  [ 75  75  25  75 100]]]\n"
     ]
    },
    {
     "data": {
      "text/plain": [
       "True"
      ]
     },
     "execution_count": 96,
     "metadata": {},
     "output_type": "execute_result"
    }
   ],
   "source": [
    "print(d)\n",
    "print(f)\n",
    "np.array(d).size==np.array(f).size\n",
    "#It's the expected result"
   ]
  },
  {
   "cell_type": "markdown",
   "metadata": {},
   "source": [
    "#### 18. Bonus question: instead of using numbers (i.e. 0, 25, 50, 75, and 100), use string values  (\"A\", \"B\", \"C\", \"D\", and \"E\") to label the array elements. For the example above, the expected result is:\n",
    "\n",
    "```python\n",
    "[[[ 'D',  'D',  'D',  'B',  'D'],\n",
    "[ 'D',  'D',  'B',  'B',  'B'],\n",
    "[ 'D',  'B',  'D',  'D',  'D']],\n",
    "[[ 'B',  'B',  'B',  'B',  'E'],\n",
    "[ 'D',  'D',  'D',  'D',  'D'],\n",
    "[ 'B',  'D',   'A',  'D', 'D']]]\n",
    "```\n",
    "**Note**: you don't have to use Numpy in this question."
   ]
  },
  {
   "cell_type": "code",
   "execution_count": 98,
   "metadata": {},
   "outputs": [
    {
     "name": "stdout",
     "output_type": "stream",
     "text": [
      "[[[1.07985753 1.92340008 1.72647163 1.88552994 1.41390645]\n",
      "  [1.86975834 1.32593395 1.52520721 1.37836572 1.41668116]\n",
      "  [1.91518435 1.70940952 1.68158045 1.45571294 1.23063032]]\n",
      "\n",
      " [[1.24960384 1.79784712 1.30254701 1.01159307 1.01850846]\n",
      "  [1.5524033  1.18120155 1.70295731 1.72652977 1.80978197]\n",
      "  [1.60025492 1.97146376 1.38585359 1.90390308 1.98307023]]]\n",
      "[[['B' 'D' 'D' 'D' 'B']\n",
      "  ['D' 'B' 'B' 'B' 'B']\n",
      "  ['D' 'D' 'D' 'B' 'B']]\n",
      "\n",
      " [['B' 'D' 'B' 'A' 'B']\n",
      "  ['B' 'B' 'D' 'D' 'D']\n",
      "  ['D' 'D' 'B' 'D' 'E']]]\n"
     ]
    }
   ],
   "source": [
    "d_mean=np.average(d)\n",
    "d_min=np.amin(d)\n",
    "d_max=np.amax(d)\n",
    "print(d)\n",
    "f_2 = []\n",
    "for element in d.flatten():\n",
    "       if element == d_min:\n",
    "           f_2.append(\"A\")\n",
    "       if element > d_min and element < d_mean:\n",
    "           f_2.append(\"B\")\n",
    "       if element == d_mean:\n",
    "           f_2.append(\"C\")\n",
    "       if element > d_mean and element < d_max:\n",
    "           f_2.append(\"D\")\n",
    "       if element == d_max:\n",
    "           f_2.append(\"E\")\n",
    "f = np.array(f_2).reshape((2, 3, 5))\n",
    "print(f)"
   ]
  }
 ],
 "metadata": {
  "kernelspec": {
   "display_name": "Python 3",
   "language": "python",
   "name": "python3"
  },
  "language_info": {
   "codemirror_mode": {
    "name": "ipython",
    "version": 3
   },
   "file_extension": ".py",
   "mimetype": "text/x-python",
   "name": "python",
   "nbconvert_exporter": "python",
   "pygments_lexer": "ipython3",
   "version": "3.7.4"
  }
 },
 "nbformat": 4,
 "nbformat_minor": 2
}
